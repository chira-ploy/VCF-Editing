{
 "cells": [
  {
   "cell_type": "code",
   "execution_count": 183,
   "id": "caaf7402",
   "metadata": {},
   "outputs": [],
   "source": [
    "from fuc import pyvcf\n",
    "import pandas as pd "
   ]
  },
  {
   "cell_type": "code",
   "execution_count": 187,
   "id": "64074813",
   "metadata": {},
   "outputs": [],
   "source": [
    "txt_file = pd.read_csv('SP01_vep.txt', sep='\\t', header=0)"
   ]
  },
  {
   "cell_type": "code",
   "execution_count": 190,
   "id": "44ea3e3c",
   "metadata": {},
   "outputs": [
    {
     "data": {
      "text/html": [
       "<div>\n",
       "<style scoped>\n",
       "    .dataframe tbody tr th:only-of-type {\n",
       "        vertical-align: middle;\n",
       "    }\n",
       "\n",
       "    .dataframe tbody tr th {\n",
       "        vertical-align: top;\n",
       "    }\n",
       "\n",
       "    .dataframe thead th {\n",
       "        text-align: right;\n",
       "    }\n",
       "</style>\n",
       "<table border=\"1\" class=\"dataframe\">\n",
       "  <thead>\n",
       "    <tr style=\"text-align: right;\">\n",
       "      <th></th>\n",
       "      <th>Location</th>\n",
       "      <th>Allele</th>\n",
       "      <th>Existing_variation</th>\n",
       "    </tr>\n",
       "  </thead>\n",
       "  <tbody>\n",
       "    <tr>\n",
       "      <th>0</th>\n",
       "      <td>10:94426-94426</td>\n",
       "      <td>T</td>\n",
       "      <td>rs10904045,COSV59118495</td>\n",
       "    </tr>\n",
       "    <tr>\n",
       "      <th>1</th>\n",
       "      <td>10:94426-94426</td>\n",
       "      <td>T</td>\n",
       "      <td>rs10904045,COSV59118495</td>\n",
       "    </tr>\n",
       "    <tr>\n",
       "      <th>2</th>\n",
       "      <td>10:94426-94426</td>\n",
       "      <td>T</td>\n",
       "      <td>rs10904045,COSV59118495</td>\n",
       "    </tr>\n",
       "    <tr>\n",
       "      <th>3</th>\n",
       "      <td>10:94426-94426</td>\n",
       "      <td>T</td>\n",
       "      <td>rs10904045,COSV59118495</td>\n",
       "    </tr>\n",
       "    <tr>\n",
       "      <th>4</th>\n",
       "      <td>10:95429-95429</td>\n",
       "      <td>A</td>\n",
       "      <td>rs35442274</td>\n",
       "    </tr>\n",
       "    <tr>\n",
       "      <th>...</th>\n",
       "      <td>...</td>\n",
       "      <td>...</td>\n",
       "      <td>...</td>\n",
       "    </tr>\n",
       "    <tr>\n",
       "      <th>1084226</th>\n",
       "      <td>X:155238653-155238653</td>\n",
       "      <td>T</td>\n",
       "      <td>rs2472749</td>\n",
       "    </tr>\n",
       "    <tr>\n",
       "      <th>1084227</th>\n",
       "      <td>X:155238653-155238653</td>\n",
       "      <td>T</td>\n",
       "      <td>rs2472749</td>\n",
       "    </tr>\n",
       "    <tr>\n",
       "      <th>1084228</th>\n",
       "      <td>X:155238653-155238653</td>\n",
       "      <td>T</td>\n",
       "      <td>rs2472749</td>\n",
       "    </tr>\n",
       "    <tr>\n",
       "      <th>1084229</th>\n",
       "      <td>X:155238653-155238653</td>\n",
       "      <td>T</td>\n",
       "      <td>rs2472749</td>\n",
       "    </tr>\n",
       "    <tr>\n",
       "      <th>1084230</th>\n",
       "      <td>X:155238653-155238653</td>\n",
       "      <td>T</td>\n",
       "      <td>rs2472749</td>\n",
       "    </tr>\n",
       "  </tbody>\n",
       "</table>\n",
       "<p>1084231 rows × 3 columns</p>\n",
       "</div>"
      ],
      "text/plain": [
       "                      Location Allele       Existing_variation\n",
       "0               10:94426-94426      T  rs10904045,COSV59118495\n",
       "1               10:94426-94426      T  rs10904045,COSV59118495\n",
       "2               10:94426-94426      T  rs10904045,COSV59118495\n",
       "3               10:94426-94426      T  rs10904045,COSV59118495\n",
       "4               10:95429-95429      A               rs35442274\n",
       "...                        ...    ...                      ...\n",
       "1084226  X:155238653-155238653      T                rs2472749\n",
       "1084227  X:155238653-155238653      T                rs2472749\n",
       "1084228  X:155238653-155238653      T                rs2472749\n",
       "1084229  X:155238653-155238653      T                rs2472749\n",
       "1084230  X:155238653-155238653      T                rs2472749\n",
       "\n",
       "[1084231 rows x 3 columns]"
      ]
     },
     "execution_count": 190,
     "metadata": {},
     "output_type": "execute_result"
    }
   ],
   "source": [
    "txt_working = txt_file[['Location','Allele', 'Existing_variation']]\n",
    "txt_working"
   ]
  },
  {
   "cell_type": "code",
   "execution_count": 254,
   "id": "25ac02d0",
   "metadata": {},
   "outputs": [],
   "source": [
    "import re\n",
    "def split_location(location):\n",
    "    pattern = r'(\\w+):(\\d+)-(\\d+)'\n",
    "    match = re.match(pattern, location)\n",
    "    if match:\n",
    "        chromosome = match.group(1)\n",
    "        position = match.group(2)\n",
    "    else:\n",
    "        return \" \"\n",
    "            \n",
    "    return chromosome, position\n"
   ]
  },
  {
   "cell_type": "code",
   "execution_count": 255,
   "id": "6bae236a",
   "metadata": {},
   "outputs": [
    {
     "name": "stdout",
     "output_type": "stream",
     "text": [
      "('10', '155238653')\n"
     ]
    }
   ],
   "source": [
    "print(split_location('10:155238653-155238653'))"
   ]
  },
  {
   "cell_type": "code",
   "execution_count": 264,
   "id": "43ed68f6",
   "metadata": {},
   "outputs": [
    {
     "name": "stdout",
     "output_type": "stream",
     "text": [
      " \n"
     ]
    }
   ],
   "source": [
    "print(split_location('X,111'))"
   ]
  },
  {
   "cell_type": "code",
   "execution_count": 265,
   "id": "c8082592",
   "metadata": {},
   "outputs": [
    {
     "data": {
      "text/plain": [
       "'X'"
      ]
     },
     "execution_count": 265,
     "metadata": {},
     "output_type": "execute_result"
    }
   ],
   "source": [
    "pattern = r'(\\w+):(\\d+)-(\\d+)'\n",
    "search = re.search(pattern, 'X:155238653-155238653')\n",
    "search.group(1)"
   ]
  },
  {
   "cell_type": "code",
   "execution_count": 258,
   "id": "27b14153",
   "metadata": {},
   "outputs": [],
   "source": [
    "def extract_rsID(variation):\n",
    "    pattern = r'(\\brs\\d+)(?:,(\\w+))?'\n",
    "    match = re.match(pattern, variation)\n",
    "    if match:\n",
    "        rsID = match.group(1)       \n",
    "        return rsID\n",
    "    else:\n",
    "        return \" \""
   ]
  },
  {
   "cell_type": "code",
   "execution_count": 259,
   "id": "d7ba3952",
   "metadata": {},
   "outputs": [
    {
     "name": "stdout",
     "output_type": "stream",
     "text": [
      "rs10904045\n"
     ]
    }
   ],
   "source": [
    "print(extract_rsID('rs10904045,COSV59118495'))"
   ]
  },
  {
   "cell_type": "code",
   "execution_count": 260,
   "id": "64b33bee",
   "metadata": {},
   "outputs": [
    {
     "name": "stdout",
     "output_type": "stream",
     "text": [
      "rs10904045\n"
     ]
    }
   ],
   "source": [
    "print(extract_rsID('rs10904045'))"
   ]
  },
  {
   "cell_type": "code",
   "execution_count": 261,
   "id": "6b68f4d2",
   "metadata": {},
   "outputs": [
    {
     "name": "stdout",
     "output_type": "stream",
     "text": [
      " \n"
     ]
    }
   ],
   "source": [
    "print(extract_rsID('COSV59118495'))"
   ]
  },
  {
   "cell_type": "code",
   "execution_count": 198,
   "id": "8924638f",
   "metadata": {},
   "outputs": [],
   "source": [
    "assert extract_rsID('rs10904045,COSV59118495') == 'rs10904045'"
   ]
  },
  {
   "cell_type": "code",
   "execution_count": 199,
   "id": "94b036e8",
   "metadata": {},
   "outputs": [],
   "source": [
    "txt_working = txt_working.assign(\n",
    "        CHROM=txt_working['Location'].apply(lambda x: split_location(x)[0]),\n",
    "        POS=txt_working['Location'].apply(lambda x: split_location(x)[1]),\n",
    "        rsID=txt_working['Existing_variation'].apply(lambda x: extract_rsID(x)))"
   ]
  },
  {
   "cell_type": "code",
   "execution_count": 268,
   "id": "82ea848e",
   "metadata": {},
   "outputs": [],
   "source": [
    "def get_header(vcf_filename):\n",
    "    header_lines = []\n",
    "    with open(vcf_filename, 'r') as file:\n",
    "        for line in file:\n",
    "            if line.startswith('#CHROM'):\n",
    "                break\n",
    "            header_lines.append(line.strip())\n",
    "            \n",
    "    header_line_str = '\\n'.join(header_lines)\n",
    "    header_line_str += '\\n#'\n",
    "    \n",
    "    return header_line_str"
   ]
  },
  {
   "cell_type": "code",
   "execution_count": 269,
   "id": "ebc06a45",
   "metadata": {},
   "outputs": [
    {
     "name": "stdout",
     "output_type": "stream",
     "text": [
      "##fileformat=VCFv4.1\n",
      "##VEP=\"v111\" time=\"2024-02-13 09:59:17\" cache=\"/net/isilonP/public/ro/ensweb-data/latest/tools/grch37/e111/vep/cache/homo_sapiens/111_GRCh37\" db=\"homo_sapiens_core_111_37@hh-mysql-ens-grch37-web\" 1000genomes=\"phase3\" COSMIC=\"98\" ClinVar=\"202306\" HGMD-PUBLIC=\"20204\" assembly=\"GRCh37.p13\" dbSNP=\"156\" gencode=\"GENCODE 19\" genebuild=\"2011-04\" gnomADe=\"r2.1\" polyphen=\"2.2.2\" regbuild=\"1.0\" sift=\"sift5.2.2\"\n",
      "##INFO=<ID=CSQ,Number=.,Type=String,Description=\"Consequence annotations from Ensembl VEP. Format: Allele|Consequence|IMPACT|SYMBOL|Gene|Feature_type|Feature|BIOTYPE|EXON|INTRON|HGVSc|HGVSp|cDNA_position|CDS_position|Protein_position|Amino_acids|Codons|Existing_variation|REF_ALLELE|UPLOADED_ALLELE|DISTANCE|STRAND|FLAGS|SYMBOL_SOURCE|HGNC_ID|MANE_SELECT|MANE_PLUS_CLINICAL|TSL|APPRIS|CCDS|SIFT|PolyPhen|AF|AFR_AF|AMR_AF|EAS_AF|EUR_AF|SAS_AF|gnomADe_AF|gnomADe_AFR_AF|gnomADe_AMR_AF|gnomADe_ASJ_AF|gnomADe_EAS_AF|gnomADe_FIN_AF|gnomADe_NFE_AF|gnomADe_OTH_AF|gnomADe_SAS_AF|gnomADg_AF|gnomADg_AFR_AF|gnomADg_AMI_AF|gnomADg_AMR_AF|gnomADg_ASJ_AF|gnomADg_EAS_AF|gnomADg_FIN_AF|gnomADg_MID_AF|gnomADg_NFE_AF|gnomADg_OTH_AF|gnomADg_SAS_AF|CLIN_SIG|SOMATIC|PHENO|PUBMED|MOTIF_NAME|MOTIF_POS|HIGH_INF_POS|MOTIF_SCORE_CHANGE|TRANSCRIPTION_FACTORS|PHENOTYPES|NMD|CADD_PHRED|CADD_RAW|Mastermind_MMID3|GO\">\n",
      "##PHENOTYPES=Phenotypes associated with overlapping genomic features\n",
      "##NMD=Nonsense-mediated mRNA decay escaping variants prediction\n",
      "##CADD_PHRED=PHRED-like scaled CADD score. CADD is only available here for non-commercial use. See CADD website for more information.\n",
      "##CADD_RAW=Raw CADD score. CADD is only available here for non-commercial use. See CADD website for more information.\n",
      "##Mastermind_MMID3=Mastermind MMID3 variant identifier(s), as gene:key. Link to the Genomenon Mastermind Genomic Search Engine.\n",
      "##GO=GO terms associated with transcript or protein product\n",
      "##VEP-command-line='vep --af --af_1kg --af_gnomade --af_gnomadg --appris --biotype --buffer_size 500 --cache --ccds --check_existing --database 0 --dir [PATH]/cache --dir_plugins [PATH]/VEP_plugins --distance 5000 --fasta_dir [PATH]/fasta --force --fork 4 --gencode_basic --input_file [PATH]/SP01_concat_pass_vep.vcf --mane --output_file [PATH]/output.vcf --plugin [PATH]/ --polyphen b --pubmed --quiet --regulatory --safe --show_ref_allele --sift b --stats_text --symbol --transcript_version --tsl --uploaded_allele --vcf'\n",
      "#\n"
     ]
    }
   ],
   "source": [
    "print(get_header('SP01_vep.vcf'))"
   ]
  },
  {
   "cell_type": "code",
   "execution_count": 214,
   "id": "4f359a30",
   "metadata": {},
   "outputs": [],
   "source": [
    "def write_vcf(vcf_filename, update_df, new_file_path):\n",
    "    header_line_str = get_header(vcf_filename)\n",
    "    \n",
    "    with open(new_file_path,'w') as file:\n",
    "        file.write(header_line_str)\n",
    "        \n",
    "    update_df.to_csv(new_file_path, mode='a', sep='\\t', index=False)"
   ]
  },
  {
   "cell_type": "code",
   "execution_count": null,
   "id": "29ad187f",
   "metadata": {},
   "outputs": [
    {
     "name": "stderr",
     "output_type": "stream",
     "text": [
      "/Users/chiranan/Desktop/Python/GitHub/VCF_Editing/repeat/rsUpdate_vcf_regex.py:40: DtypeWarning: Columns (69,70) have mixed types. Specify dtype option on import or set low_memory=False.\n",
      "  txt_file = pd.read_csv(f'{SPnumber}_vep.txt', sep='\\t', header=0)\n"
     ]
    }
   ],
   "source": [
    "from rsUpdate_vcf_regex import main\n",
    "\n",
    "files_to_update = ['SP01', 'SP04', 'SP09', 'SP24']\n",
    "for file in files_to_update:\n",
    "    main(file)"
   ]
  },
  {
   "cell_type": "code",
   "execution_count": 273,
   "id": "b80edb9e",
   "metadata": {},
   "outputs": [
    {
     "data": {
      "text/html": [
       "<div>\n",
       "<style scoped>\n",
       "    .dataframe tbody tr th:only-of-type {\n",
       "        vertical-align: middle;\n",
       "    }\n",
       "\n",
       "    .dataframe tbody tr th {\n",
       "        vertical-align: top;\n",
       "    }\n",
       "\n",
       "    .dataframe thead th {\n",
       "        text-align: right;\n",
       "    }\n",
       "</style>\n",
       "<table border=\"1\" class=\"dataframe\">\n",
       "  <thead>\n",
       "    <tr style=\"text-align: right;\">\n",
       "      <th></th>\n",
       "      <th>CHROM</th>\n",
       "      <th>POS</th>\n",
       "      <th>ID</th>\n",
       "      <th>REF</th>\n",
       "      <th>ALT</th>\n",
       "      <th>QUAL</th>\n",
       "      <th>FILTER</th>\n",
       "      <th>INFO</th>\n",
       "    </tr>\n",
       "  </thead>\n",
       "  <tbody>\n",
       "    <tr>\n",
       "      <th>0</th>\n",
       "      <td>10</td>\n",
       "      <td>94426</td>\n",
       "      <td>.</td>\n",
       "      <td>C</td>\n",
       "      <td>T</td>\n",
       "      <td>. . .</td>\n",
       "      <td>.</td>\n",
       "      <td>CSQ=T|intron_variant|MODIFIER|TUBB8|ENSG000001...</td>\n",
       "    </tr>\n",
       "    <tr>\n",
       "      <th>1</th>\n",
       "      <td>10</td>\n",
       "      <td>95429</td>\n",
       "      <td>.</td>\n",
       "      <td>C</td>\n",
       "      <td>CA</td>\n",
       "      <td>. . .</td>\n",
       "      <td>.</td>\n",
       "      <td>CSQ=A|upstream_gene_variant|MODIFIER|TUBB8|ENS...</td>\n",
       "    </tr>\n",
       "    <tr>\n",
       "      <th>2</th>\n",
       "      <td>10</td>\n",
       "      <td>120756</td>\n",
       "      <td>.</td>\n",
       "      <td>A</td>\n",
       "      <td>T</td>\n",
       "      <td>. . .</td>\n",
       "      <td>.</td>\n",
       "      <td>CSQ=T|regulatory_region_variant|MODIFIER|||Reg...</td>\n",
       "    </tr>\n",
       "    <tr>\n",
       "      <th>3</th>\n",
       "      <td>10</td>\n",
       "      <td>126237</td>\n",
       "      <td>.</td>\n",
       "      <td>G</td>\n",
       "      <td>A</td>\n",
       "      <td>. . .</td>\n",
       "      <td>.</td>\n",
       "      <td>CSQ=A|downstream_gene_variant|MODIFIER|IL9RP2|...</td>\n",
       "    </tr>\n",
       "    <tr>\n",
       "      <th>4</th>\n",
       "      <td>10</td>\n",
       "      <td>126402</td>\n",
       "      <td>.</td>\n",
       "      <td>T</td>\n",
       "      <td>C</td>\n",
       "      <td>. . .</td>\n",
       "      <td>.</td>\n",
       "      <td>CSQ=C|non_coding_transcript_exon_variant|MODIF...</td>\n",
       "    </tr>\n",
       "    <tr>\n",
       "      <th>...</th>\n",
       "      <td>...</td>\n",
       "      <td>...</td>\n",
       "      <td>...</td>\n",
       "      <td>...</td>\n",
       "      <td>...</td>\n",
       "      <td>...</td>\n",
       "      <td>...</td>\n",
       "      <td>...</td>\n",
       "    </tr>\n",
       "    <tr>\n",
       "      <th>400592</th>\n",
       "      <td>X</td>\n",
       "      <td>155231738</td>\n",
       "      <td>.</td>\n",
       "      <td>T</td>\n",
       "      <td>TG</td>\n",
       "      <td>. . .</td>\n",
       "      <td>.</td>\n",
       "      <td>CSQ=G|intron_variant|MODIFIER|IL9R|ENSG0000012...</td>\n",
       "    </tr>\n",
       "    <tr>\n",
       "      <th>400593</th>\n",
       "      <td>X</td>\n",
       "      <td>155233098</td>\n",
       "      <td>.</td>\n",
       "      <td>T</td>\n",
       "      <td>C</td>\n",
       "      <td>. . .</td>\n",
       "      <td>.</td>\n",
       "      <td>CSQ=C|splice_polypyrimidine_tract_variant&amp;intr...</td>\n",
       "    </tr>\n",
       "    <tr>\n",
       "      <th>400594</th>\n",
       "      <td>X</td>\n",
       "      <td>155234750</td>\n",
       "      <td>.</td>\n",
       "      <td>C</td>\n",
       "      <td>T</td>\n",
       "      <td>. . .</td>\n",
       "      <td>.</td>\n",
       "      <td>CSQ=T|intron_variant|MODIFIER|IL9R|ENSG0000012...</td>\n",
       "    </tr>\n",
       "    <tr>\n",
       "      <th>400595</th>\n",
       "      <td>X</td>\n",
       "      <td>155235014</td>\n",
       "      <td>.</td>\n",
       "      <td>C</td>\n",
       "      <td>T</td>\n",
       "      <td>. . .</td>\n",
       "      <td>.</td>\n",
       "      <td>CSQ=T|synonymous_variant|LOW|IL9R|ENSG00000124...</td>\n",
       "    </tr>\n",
       "    <tr>\n",
       "      <th>400596</th>\n",
       "      <td>X</td>\n",
       "      <td>155238653</td>\n",
       "      <td>.</td>\n",
       "      <td>A</td>\n",
       "      <td>T</td>\n",
       "      <td>. . .</td>\n",
       "      <td>.</td>\n",
       "      <td>CSQ=T|intron_variant|MODIFIER|IL9R|ENSG0000012...</td>\n",
       "    </tr>\n",
       "  </tbody>\n",
       "</table>\n",
       "<p>400597 rows × 8 columns</p>\n",
       "</div>"
      ],
      "text/plain": [
       "       CHROM        POS ID REF ALT    QUAL FILTER  \\\n",
       "0         10      94426  .   C   T   . . .      .   \n",
       "1         10      95429  .   C  CA   . . .      .   \n",
       "2         10     120756  .   A   T   . . .      .   \n",
       "3         10     126237  .   G   A   . . .      .   \n",
       "4         10     126402  .   T   C   . . .      .   \n",
       "...      ...        ... ..  ..  ..     ...    ...   \n",
       "400592     X  155231738  .   T  TG   . . .      .   \n",
       "400593     X  155233098  .   T   C   . . .      .   \n",
       "400594     X  155234750  .   C   T   . . .      .   \n",
       "400595     X  155235014  .   C   T   . . .      .   \n",
       "400596     X  155238653  .   A   T   . . .      .   \n",
       "\n",
       "                                                     INFO  \n",
       "0       CSQ=T|intron_variant|MODIFIER|TUBB8|ENSG000001...  \n",
       "1       CSQ=A|upstream_gene_variant|MODIFIER|TUBB8|ENS...  \n",
       "2       CSQ=T|regulatory_region_variant|MODIFIER|||Reg...  \n",
       "3       CSQ=A|downstream_gene_variant|MODIFIER|IL9RP2|...  \n",
       "4       CSQ=C|non_coding_transcript_exon_variant|MODIF...  \n",
       "...                                                   ...  \n",
       "400592  CSQ=G|intron_variant|MODIFIER|IL9R|ENSG0000012...  \n",
       "400593  CSQ=C|splice_polypyrimidine_tract_variant&intr...  \n",
       "400594  CSQ=T|intron_variant|MODIFIER|IL9R|ENSG0000012...  \n",
       "400595  CSQ=T|synonymous_variant|LOW|IL9R|ENSG00000124...  \n",
       "400596  CSQ=T|intron_variant|MODIFIER|IL9R|ENSG0000012...  \n",
       "\n",
       "[400597 rows x 8 columns]"
      ]
     },
     "execution_count": 273,
     "metadata": {},
     "output_type": "execute_result"
    }
   ],
   "source": [
    "vcf_SP01_original = pyvcf.VcfFrame.from_file('SP01_vep.vcf')\n",
    "vcf_SP01_original.df"
   ]
  },
  {
   "cell_type": "code",
   "execution_count": 275,
   "id": "7a46bdca",
   "metadata": {},
   "outputs": [
    {
     "data": {
      "text/html": [
       "<div>\n",
       "<style scoped>\n",
       "    .dataframe tbody tr th:only-of-type {\n",
       "        vertical-align: middle;\n",
       "    }\n",
       "\n",
       "    .dataframe tbody tr th {\n",
       "        vertical-align: top;\n",
       "    }\n",
       "\n",
       "    .dataframe thead th {\n",
       "        text-align: right;\n",
       "    }\n",
       "</style>\n",
       "<table border=\"1\" class=\"dataframe\">\n",
       "  <thead>\n",
       "    <tr style=\"text-align: right;\">\n",
       "      <th></th>\n",
       "      <th>CHROM</th>\n",
       "      <th>POS</th>\n",
       "      <th>ID</th>\n",
       "      <th>REF</th>\n",
       "      <th>ALT</th>\n",
       "      <th>QUAL</th>\n",
       "      <th>FILTER</th>\n",
       "      <th>INFO</th>\n",
       "    </tr>\n",
       "  </thead>\n",
       "  <tbody>\n",
       "    <tr>\n",
       "      <th>0</th>\n",
       "      <td>10</td>\n",
       "      <td>94426</td>\n",
       "      <td>rs10904045</td>\n",
       "      <td>C</td>\n",
       "      <td>T</td>\n",
       "      <td>. . .</td>\n",
       "      <td>.</td>\n",
       "      <td>CSQ=T|intron_variant|MODIFIER|TUBB8|ENSG000001...</td>\n",
       "    </tr>\n",
       "    <tr>\n",
       "      <th>1</th>\n",
       "      <td>10</td>\n",
       "      <td>95429</td>\n",
       "      <td>.</td>\n",
       "      <td>C</td>\n",
       "      <td>CA</td>\n",
       "      <td>. . .</td>\n",
       "      <td>.</td>\n",
       "      <td>CSQ=A|upstream_gene_variant|MODIFIER|TUBB8|ENS...</td>\n",
       "    </tr>\n",
       "    <tr>\n",
       "      <th>2</th>\n",
       "      <td>10</td>\n",
       "      <td>120756</td>\n",
       "      <td>rs11253286</td>\n",
       "      <td>A</td>\n",
       "      <td>T</td>\n",
       "      <td>. . .</td>\n",
       "      <td>.</td>\n",
       "      <td>CSQ=T|regulatory_region_variant|MODIFIER|||Reg...</td>\n",
       "    </tr>\n",
       "    <tr>\n",
       "      <th>3</th>\n",
       "      <td>10</td>\n",
       "      <td>126237</td>\n",
       "      <td>rs2379071</td>\n",
       "      <td>G</td>\n",
       "      <td>A</td>\n",
       "      <td>. . .</td>\n",
       "      <td>.</td>\n",
       "      <td>CSQ=A|downstream_gene_variant|MODIFIER|IL9RP2|...</td>\n",
       "    </tr>\n",
       "    <tr>\n",
       "      <th>4</th>\n",
       "      <td>10</td>\n",
       "      <td>126402</td>\n",
       "      <td>rs1984905</td>\n",
       "      <td>T</td>\n",
       "      <td>C</td>\n",
       "      <td>. . .</td>\n",
       "      <td>.</td>\n",
       "      <td>CSQ=C|non_coding_transcript_exon_variant|MODIF...</td>\n",
       "    </tr>\n",
       "    <tr>\n",
       "      <th>...</th>\n",
       "      <td>...</td>\n",
       "      <td>...</td>\n",
       "      <td>...</td>\n",
       "      <td>...</td>\n",
       "      <td>...</td>\n",
       "      <td>...</td>\n",
       "      <td>...</td>\n",
       "      <td>...</td>\n",
       "    </tr>\n",
       "    <tr>\n",
       "      <th>400592</th>\n",
       "      <td>X</td>\n",
       "      <td>155231738</td>\n",
       "      <td>.</td>\n",
       "      <td>T</td>\n",
       "      <td>TG</td>\n",
       "      <td>. . .</td>\n",
       "      <td>.</td>\n",
       "      <td>CSQ=G|intron_variant|MODIFIER|IL9R|ENSG0000012...</td>\n",
       "    </tr>\n",
       "    <tr>\n",
       "      <th>400593</th>\n",
       "      <td>X</td>\n",
       "      <td>155233098</td>\n",
       "      <td>rs2037999</td>\n",
       "      <td>T</td>\n",
       "      <td>C</td>\n",
       "      <td>. . .</td>\n",
       "      <td>.</td>\n",
       "      <td>CSQ=C|splice_polypyrimidine_tract_variant&amp;intr...</td>\n",
       "    </tr>\n",
       "    <tr>\n",
       "      <th>400594</th>\n",
       "      <td>X</td>\n",
       "      <td>155234750</td>\n",
       "      <td>rs191761523</td>\n",
       "      <td>C</td>\n",
       "      <td>T</td>\n",
       "      <td>. . .</td>\n",
       "      <td>.</td>\n",
       "      <td>CSQ=T|intron_variant|MODIFIER|IL9R|ENSG0000012...</td>\n",
       "    </tr>\n",
       "    <tr>\n",
       "      <th>400595</th>\n",
       "      <td>X</td>\n",
       "      <td>155235014</td>\n",
       "      <td>rs150608249</td>\n",
       "      <td>C</td>\n",
       "      <td>T</td>\n",
       "      <td>. . .</td>\n",
       "      <td>.</td>\n",
       "      <td>CSQ=T|synonymous_variant|LOW|IL9R|ENSG00000124...</td>\n",
       "    </tr>\n",
       "    <tr>\n",
       "      <th>400596</th>\n",
       "      <td>X</td>\n",
       "      <td>155238653</td>\n",
       "      <td>rs2472749</td>\n",
       "      <td>A</td>\n",
       "      <td>T</td>\n",
       "      <td>. . .</td>\n",
       "      <td>.</td>\n",
       "      <td>CSQ=T|intron_variant|MODIFIER|IL9R|ENSG0000012...</td>\n",
       "    </tr>\n",
       "  </tbody>\n",
       "</table>\n",
       "<p>400597 rows × 8 columns</p>\n",
       "</div>"
      ],
      "text/plain": [
       "       CHROM        POS           ID REF ALT    QUAL FILTER  \\\n",
       "0         10      94426   rs10904045   C   T   . . .      .   \n",
       "1         10      95429            .   C  CA   . . .      .   \n",
       "2         10     120756   rs11253286   A   T   . . .      .   \n",
       "3         10     126237    rs2379071   G   A   . . .      .   \n",
       "4         10     126402    rs1984905   T   C   . . .      .   \n",
       "...      ...        ...          ...  ..  ..     ...    ...   \n",
       "400592     X  155231738            .   T  TG   . . .      .   \n",
       "400593     X  155233098    rs2037999   T   C   . . .      .   \n",
       "400594     X  155234750  rs191761523   C   T   . . .      .   \n",
       "400595     X  155235014  rs150608249   C   T   . . .      .   \n",
       "400596     X  155238653    rs2472749   A   T   . . .      .   \n",
       "\n",
       "                                                     INFO  \n",
       "0       CSQ=T|intron_variant|MODIFIER|TUBB8|ENSG000001...  \n",
       "1       CSQ=A|upstream_gene_variant|MODIFIER|TUBB8|ENS...  \n",
       "2       CSQ=T|regulatory_region_variant|MODIFIER|||Reg...  \n",
       "3       CSQ=A|downstream_gene_variant|MODIFIER|IL9RP2|...  \n",
       "4       CSQ=C|non_coding_transcript_exon_variant|MODIF...  \n",
       "...                                                   ...  \n",
       "400592  CSQ=G|intron_variant|MODIFIER|IL9R|ENSG0000012...  \n",
       "400593  CSQ=C|splice_polypyrimidine_tract_variant&intr...  \n",
       "400594  CSQ=T|intron_variant|MODIFIER|IL9R|ENSG0000012...  \n",
       "400595  CSQ=T|synonymous_variant|LOW|IL9R|ENSG00000124...  \n",
       "400596  CSQ=T|intron_variant|MODIFIER|IL9R|ENSG0000012...  \n",
       "\n",
       "[400597 rows x 8 columns]"
      ]
     },
     "execution_count": 275,
     "metadata": {},
     "output_type": "execute_result"
    }
   ],
   "source": [
    "vcf_SP01_update = pyvcf.VcfFrame.from_file('SP01_vep_rsUpdate.vcf')\n",
    "vcf_SP01_update.df"
   ]
  }
 ],
 "metadata": {
  "kernelspec": {
   "display_name": "Python 3 (ipykernel)",
   "language": "python",
   "name": "python3"
  },
  "language_info": {
   "codemirror_mode": {
    "name": "ipython",
    "version": 3
   },
   "file_extension": ".py",
   "mimetype": "text/x-python",
   "name": "python",
   "nbconvert_exporter": "python",
   "pygments_lexer": "ipython3",
   "version": "3.11.5"
  }
 },
 "nbformat": 4,
 "nbformat_minor": 5
}
